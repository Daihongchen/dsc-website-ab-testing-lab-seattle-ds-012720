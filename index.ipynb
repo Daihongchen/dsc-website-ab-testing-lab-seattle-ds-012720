{
 "cells": [
  {
   "cell_type": "markdown",
   "metadata": {},
   "source": [
    "# Website A/B Testing - Lab\n",
    "\n",
    "## Introduction\n",
    "\n",
    "In this lab, you'll get another chance to practice your skills at conducting a full A/B test analysis. It will also be a chance to practice your data exploration and processing skills! The scenario you'll be investigating is data collected from the homepage of a music app page for audacity.\n",
    "\n",
    "## Objectives\n",
    "\n",
    "You will be able to:\n",
    "* Analyze the data from a website A/B test to draw relevant conclusions\n",
    "* Explore and analyze web action data"
   ]
  },
  {
   "cell_type": "markdown",
   "metadata": {},
   "source": [
    "## Exploratory Analysis\n",
    "\n",
    "Start by loading in the dataset stored in the file 'homepage_actions.csv'. Then conduct an exploratory analysis to get familiar with the data."
   ]
  },
  {
   "cell_type": "markdown",
   "metadata": {},
   "source": [
    "> Hints:\n",
    "    * Start investigating the id column:\n",
    "        * How many viewers also clicked?\n",
    "        * Are there any anomalies with the data; did anyone click who didn't view?\n",
    "        * Is there any overlap between the control and experiment groups? \n",
    "            * If so, how do you plan to account for this in your experimental design?"
   ]
  },
  {
   "cell_type": "code",
   "execution_count": 31,
   "metadata": {},
   "outputs": [],
   "source": [
    "import pandas as pd\n",
    "import numpy as np\n",
    "import statsmodels.api as sm\n",
    "from statsmodels.formula.api import ols\n",
    "from statsmodels.stats.power import TTestIndPower, TTestPower\n",
    "import scipy.stats as stats\n",
    "import matplotlib.pyplot as plt\n",
    "import seaborn as sns\n",
    "import seaborn as sns\n",
    "from statsmodels.stats.proportion import proportions_ztest\n",
    "%matplotlib inline\n",
    "sns.set_style(\"whitegrid\")"
   ]
  },
  {
   "cell_type": "code",
   "execution_count": 55,
   "metadata": {},
   "outputs": [
    {
     "name": "stdout",
     "output_type": "stream",
     "text": [
      "                       timestamp      id       group action\n",
      "2903  2016-11-05 13:39:46.420337  425476     control   view\n",
      "2317  2016-10-27 15:45:59.272888  445848  experiment   view\n",
      "53    2016-09-25 08:22:31.565265  283438  experiment   view\n",
      "7406  2017-01-07 17:10:58.400313  925528     control  click\n",
      "4128  2016-11-22 20:35:49.931192  356686     control  click\n"
     ]
    }
   ],
   "source": [
    "#Your code here\n",
    "df = pd.read_csv('homepage_actions.csv')\n",
    "print(df.sample(5))\n",
    "df.groupby(['id','group', 'action']).count()\n",
    "\n",
    "experiment = df[df['group'] == 'experiment']\n",
    "control = df[df['group'] == 'control']\n",
    "\n",
    "count_exp = len(experiment[experiment['action']=='view'])\n",
    "count_conl = len(control[control['action']=='view'])\n",
    "count_click_exp = len (experiment[experiment['action']== 'click'])\n",
    "count_click_conl = len(control[control['action']=='click'])\n",
    "\n",
    "click_rate_exp = count_click_exp / count_exp\n",
    "click_rate_conl = count_click_conl / count_conl\n",
    "\n",
    "\n",
    "\n"
   ]
  },
  {
   "cell_type": "markdown",
   "metadata": {},
   "source": [
    "## Conduct a Statistical Test\n",
    "\n",
    "Conduct a statistical test to determine whether the experimental homepage was more effective than that of the control group."
   ]
  },
  {
   "cell_type": "code",
   "execution_count": 56,
   "metadata": {},
   "outputs": [
    {
     "data": {
      "text/plain": [
       "(nan, nan)"
      ]
     },
     "execution_count": 56,
     "metadata": {},
     "output_type": "execute_result"
    }
   ],
   "source": [
    "#Your code here\n",
    "\n",
    "count = np.array([count_exp, count_conl])\n",
    "click_rate = np.array([click_rate_exp, click_rate_conl])\n",
    "\n",
    "proportions_ztest(count, percent)\n",
    "# print(percent)"
   ]
  },
  {
   "cell_type": "markdown",
   "metadata": {},
   "source": [
    "## Verifying Results\n",
    "\n",
    "One sensible formulation of the data to answer the hypothesis test above would be to create a binary variable representing each individual in the experiment and control group. This binary variable would represent whether or not that individual clicked on the homepage; 1 for they did and 0 if they did not. \n",
    "\n",
    "The variance for the number of successes in a sample of a binomial variable with n observations is given by:\n",
    "\n",
    "## $n\\bullet p (1-p)$\n",
    "\n",
    "Given this, perform 3 steps to verify the results of your statistical test:\n",
    "1. Calculate the expected number of clicks for the experiment group, if it had the same click-through rate as that of the control group. \n",
    "2. Calculate the number of standard deviations that the actual number of clicks was from this estimate. \n",
    "3. Finally, calculate a p-value using the normal distribution based on this z-score."
   ]
  },
  {
   "cell_type": "markdown",
   "metadata": {},
   "source": [
    "### Step 1:\n",
    "Calculate the expected number of clicks for the experiment group, if it had the same click-through rate as that of the control group. "
   ]
  },
  {
   "cell_type": "code",
   "execution_count": 67,
   "metadata": {},
   "outputs": [
    {
     "name": "stdout",
     "output_type": "stream",
     "text": [
      "2996 3332 928 932 0.3097463284379172 0.2797118847539016 838.0168067226891\n"
     ]
    }
   ],
   "source": [
    "#Your code here\n",
    "count = np.array([count_exp, count_conl])\n",
    "percent = np.array([click_rate_exp, click_rate_conl])\n",
    "expected_click = count_exp * (count_click_conl/count_conl)\n",
    "\n",
    "print(count_exp, count_conl, count_click_exp, count_click_conl, click_rate_exp, click_rate_conl, expected_click)"
   ]
  },
  {
   "cell_type": "markdown",
   "metadata": {},
   "source": [
    "### Step 2:\n",
    "Calculate the number of standard deviations that the actual number of clicks was from this estimate."
   ]
  },
  {
   "cell_type": "code",
   "execution_count": 59,
   "metadata": {},
   "outputs": [
    {
     "name": "stdout",
     "output_type": "stream",
     "text": [
      "24.568547907005815\n",
      "25.909622216646923\n"
     ]
    }
   ],
   "source": [
    "#Your code here\n",
    "std_exp = (count_exp * (click_rate_conl)*(1 - percent_click_conl)) **0.5\n",
    "print(std_exp)\n",
    "std_conl = (count_conl * (click_rate_conl) * (1 - percent_click_conl)) **0.5\n",
    "print(std_conl)"
   ]
  },
  {
   "cell_type": "markdown",
   "metadata": {},
   "source": [
    "### Step 3: \n",
    "Finally, calculate a p-value using the normal distribution based on this z-score."
   ]
  },
  {
   "cell_type": "code",
   "execution_count": 73,
   "metadata": {},
   "outputs": [
    {
     "name": "stdout",
     "output_type": "stream",
     "text": [
      "p value is 0.0001\n",
      "Based on the p value that is 0.0001, we have the evidences to reject the null hypothesis that the experimental homepage has the same click rate as thecontrol homepage.\n"
     ]
    }
   ],
   "source": [
    "#Your code here\n",
    "z_score = (count_click_exp - expected_click ) / (std_exp)\n",
    "\n",
    "p_value = stats.norm.sf(z_score)\n",
    "\n",
    "print(f\"p value is {p_value.round(4)}\")\n",
    "\n",
    "print(\"Based on the p value that is 0.0001, we have the evidences to reject the null hypothesis that the experimental homepage has the same click rate as the\\\n",
    "control homepage.\")"
   ]
  },
  {
   "cell_type": "markdown",
   "metadata": {},
   "source": [
    "### Analysis:\n",
    "\n",
    "Does this result roughly match that of the previous statistical test?\n",
    "\n",
    "> Comment: **Your analysis here**"
   ]
  },
  {
   "cell_type": "markdown",
   "metadata": {},
   "source": [
    "## Summary\n",
    "\n",
    "In this lab, you continued to get more practice designing and conducting AB tests. This required additional work preprocessing and formulating the initial problem in a suitable manner. Additionally, you also saw how to verify results, strengthening your knowledge of binomial variables, and reviewing initial statistical concepts of the central limit theorem, standard deviation, z-scores, and their accompanying p-values."
   ]
  }
 ],
 "metadata": {
  "kernelspec": {
   "display_name": "Python 3",
   "language": "python",
   "name": "python3"
  },
  "language_info": {
   "codemirror_mode": {
    "name": "ipython",
    "version": 3
   },
   "file_extension": ".py",
   "mimetype": "text/x-python",
   "name": "python",
   "nbconvert_exporter": "python",
   "pygments_lexer": "ipython3",
   "version": "3.6.9"
  }
 },
 "nbformat": 4,
 "nbformat_minor": 4
}
